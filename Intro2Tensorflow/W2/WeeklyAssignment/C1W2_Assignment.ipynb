{
 "cells": [
  {
   "cell_type": "markdown",
   "metadata": {
    "id": "_2s0EJ5Fy4u2"
   },
   "source": [
    "# Week 2: Implementing Callbacks in TensorFlow using the MNIST Dataset\n",
    "\n",
    "In the lectures you learned how to do classification using Fashion MNIST, a dataset containing items of clothing. There's another, similar dataset called MNIST which has items of handwriting -- the digits 0 through 9.\n",
    "\n",
    "In this assignment you will code a classifier for the MNIST dataset, that trains until it reaches 98% accuracy and stops once this threshold is achieved. In the lectures you saw how this was done for the loss but here you will be using accuracy instead.\n",
    "\n",
    "Some notes:\n",
    "1. Your network should succeed in less than 10 epochs.\n",
    "2. When it reaches 98% or greater it should print out the string \"Reached 98% accuracy so cancelling training!\" and stop training."
   ]
  },
  {
   "cell_type": "markdown",
   "metadata": {},
   "source": [
    "#### TIPS FOR SUCCESSFUL GRADING OF YOUR ASSIGNMENT:\n",
    "\n",
    "- All cells are frozen except for the ones where you need to submit your solutions or when explicitly mentioned you can interact with it.\n",
    "\n",
    "- You can add new cells to experiment but these will be omitted by the grader, so don't rely on newly created cells to host your solution code, use the provided places for this.\n",
    "\n",
    "- You can add the comment # grade-up-to-here in any graded cell to signal the grader that it must only evaluate up to that point. This is helpful if you want to check if you are on the right track even if you are not done with the whole assignment. Be sure to remember to delete the comment afterwards!\n",
    "\n",
    "- Avoid using global variables unless you absolutely have to. The grader tests your code in an isolated environment without running all cells from the top. As a result, global variables may be unavailable when scoring your submission. Global variables that are meant to be used will be defined in UPPERCASE.\n",
    "\n",
    "- To submit your notebook, save it and then click on the blue submit button at the beginning of the page."
   ]
  },
  {
   "cell_type": "code",
   "metadata": {
    "deletable": false,
    "editable": false,
    "id": "djVOgMHty4u3",
    "tags": [
     "graded"
    ],
    "ExecuteTime": {
     "end_time": "2024-11-01T21:13:45.009463Z",
     "start_time": "2024-11-01T21:13:44.998930Z"
    }
   },
   "source": [
    "import os\n",
    "import base64\n",
    "import tensorflow as tf"
   ],
   "outputs": [],
   "execution_count": 13
  },
  {
   "cell_type": "markdown",
   "metadata": {},
   "source": [
    "## Load and inspect the data\n",
    "\n",
    "Begin by loading the data. A couple of things to notice:\n",
    "\n",
    "- The file `mnist.npz` is already included in the current workspace under the `data` directory. By default the `load_data` from Keras accepts a path relative to `~/.keras/datasets` but in this case it is stored somewhere else, as a result of this, you need to specify the full path.\n",
    "\n",
    "- `tf.keras.datasets.mnist.load_data` returns the train and test sets in the form of the tuples `(training_images, training_labels), (testing_images, testing_labels)` but in this exercise you will be needing only the train set so you can ignore the second tuple."
   ]
  },
  {
   "cell_type": "code",
   "metadata": {
    "deletable": false,
    "editable": false,
    "tags": [
     "graded"
    ],
    "ExecuteTime": {
     "end_time": "2024-11-01T21:15:06.893837Z",
     "start_time": "2024-11-01T21:15:06.699601Z"
    }
   },
   "source": [
    "# Get current working directory\n",
    "\n",
    "# 指定数据集的目录\n",
    "data_dir = './data'\n",
    "\n",
    "# 加载数据集，指定缓存目录\n",
    "(training_images, training_labels), (test_images, test_labels) = tf.keras.datasets.mnist.load_data()\n",
    "\n",
    "# 打印数据的基本信息\n",
    "print(f\"training_images is of type {type(training_images)}.\")\n",
    "print(f\"training_labels is of type {type(training_labels)}.\")\n",
    "\n",
    "# 检查数据的形状\n",
    "data_shape = training_images.shape\n",
    "print(f\"There are {data_shape[0]} examples with shape ({data_shape[1]}, {data_shape[2]})\")\n"
   ],
   "outputs": [
    {
     "name": "stdout",
     "output_type": "stream",
     "text": [
      "training_images is of type <class 'numpy.ndarray'>.\n",
      "training_labels is of type <class 'numpy.ndarray'>.\n",
      "There are 60000 examples with shape (28, 28)\n"
     ]
    }
   ],
   "execution_count": 16
  },
  {
   "cell_type": "markdown",
   "metadata": {},
   "source": [
    "One important step is to normalize the pixel values. The dataset includes black and white images and the pixel values for these kinds of images usually range from 0 to 255 but the network will have an easier time learning if these values range from 0 to 1.\n",
    "\n",
    "The data comes as numpy arrays so you can easily normalize the pixel values by using vectorization:"
   ]
  },
  {
   "cell_type": "code",
   "metadata": {
    "deletable": false,
    "editable": false,
    "tags": [
     "graded"
    ],
    "ExecuteTime": {
     "end_time": "2024-11-01T21:15:08.927073Z",
     "start_time": "2024-11-01T21:15:08.766288Z"
    }
   },
   "source": [
    "# Normalize pixel values\n",
    "training_images = training_images / 255.0"
   ],
   "outputs": [],
   "execution_count": 17
  },
  {
   "cell_type": "markdown",
   "metadata": {},
   "source": [
    "## Exercise 1: create_and_compile_model\n",
    "\n",
    "Your first task is to create and compile the model that you will later train to recognize handwritten digits.\n",
    "\n",
    "Feel free to try the architecture for the neural network that you see fit but in case you need extra help you can check out an architecture that works pretty well at the end of this notebook. Notice that the part where the model is compiled is already provided (and the `accuracy` metric is defined so it can be accessed by your callback later on) so you only need to specify the layers of the model.\n",
    "\n",
    "Hints:\n",
    "- The first layer should take into consideration the `input_shape` of the data, which in this case is the size of each image\n",
    "- The last layer should take into account the number of classes you are trying to predict"
   ]
  },
  {
   "cell_type": "code",
   "metadata": {
    "deletable": false,
    "tags": [
     "graded"
    ],
    "ExecuteTime": {
     "end_time": "2024-11-01T21:15:11.985198Z",
     "start_time": "2024-11-01T21:15:11.977019Z"
    }
   },
   "source": [
    "# GRADED FUNCTION: create_and_compile_model\n",
    "\n",
    "import tensorflow.keras as tfk\n",
    "def create_and_compile_model():\n",
    "    \"\"\"Returns the compiled (but untrained) model.\n",
    "\n",
    "    Returns:\n",
    "        tf.keras.Model: The model that will be trained to predict predict handwriting digits.\n",
    "    \"\"\"\n",
    "\n",
    "    ### START CODE HERE ###\n",
    "\n",
    "    # Define the model\n",
    "    model = tf.keras.models.Sequential([\n",
    "        tfk.Input(shape=(28, 28)),\n",
    "        tfk.layers.Flatten(),\n",
    "        tfk.layers.Dense(512, activation='relu'),\n",
    "        tfk.layers.Dense(10, activation='softmax'),\n",
    "    ])\n",
    "\n",
    "    ### END CODE HERE ###\n",
    "\n",
    "    # Compile the model\n",
    "    model.compile(\n",
    "        optimizer='adam',\n",
    "        loss='sparse_categorical_crossentropy',\n",
    "        metrics=['accuracy']\n",
    "    )\n",
    "\n",
    "    return model"
   ],
   "outputs": [],
   "execution_count": 18
  },
  {
   "cell_type": "markdown",
   "metadata": {},
   "source": [
    "The next cell allows you to check the number of total and trainable parameters of your model and prompts a warning in case these exceeds those of a reference solution, this serves the following 3 purposes listed in order of priority:\n",
    "\n",
    "- Helps you prevent crashing the kernel during training.\n",
    "\n",
    "- Helps you avoid longer-than-necessary training times.\n",
    "- Provides a reasonable estimate of the size of your model. In general you will usually prefer smaller models given that they accomplish their goal successfully.\n",
    "\n",
    "**Notice that this is just informative** and may be very well below the actual limit for size of the model necessary to crash the kernel. So even if you exceed this reference you are probably fine. However, **if the kernel crashes during training or it is taking a very long time and your model is larger than the reference, come back here and try to get the number of parameters closer to the reference.**"
   ]
  },
  {
   "cell_type": "code",
   "metadata": {
    "deletable": false,
    "editable": false,
    "tags": [],
    "ExecuteTime": {
     "end_time": "2024-11-01T21:15:14.356348Z",
     "start_time": "2024-11-01T21:15:14.256962Z"
    }
   },
   "source": [
    "# Save untrained model in a variable\n",
    "untrained_model = create_and_compile_model()\n"
   ],
   "outputs": [],
   "execution_count": 19
  },
  {
   "cell_type": "code",
   "metadata": {
    "deletable": false,
    "editable": false,
    "tags": [],
    "ExecuteTime": {
     "end_time": "2024-11-01T21:15:15.544104Z",
     "start_time": "2024-11-01T21:15:15.417841Z"
    }
   },
   "source": [
    "# Use it to predict the first 5 images in the train set\n",
    "predictions = untrained_model.predict(training_images[:5], verbose=False)\n",
    "\n",
    "print(f\"predictions have shape: {predictions.shape}\")"
   ],
   "outputs": [
    {
     "name": "stdout",
     "output_type": "stream",
     "text": [
      "predictions have shape: (5, 10)\n"
     ]
    }
   ],
   "execution_count": 20
  },
  {
   "cell_type": "markdown",
   "metadata": {},
   "source": [
    "**Expected Output:**\n",
    "\n",
    "```\n",
    "predictions have shape: (5, 10)\n",
    "```"
   ]
  },
  {
   "cell_type": "markdown",
   "metadata": {},
   "source": [
    "## Exercise 2: EarlyStoppingCallback\n",
    "\n",
    "Now it is time to create your own custom callback. For this complete the `EarlyStoppingCallback` class and the `on_epoch_end` method in the cell below. If you need some guidance on how to proceed, check out this [link](https://www.tensorflow.org/guide/keras/writing_your_own_callbacks)."
   ]
  },
  {
   "cell_type": "code",
   "metadata": {
    "deletable": false,
    "tags": [
     "graded"
    ],
    "ExecuteTime": {
     "end_time": "2024-11-01T21:15:19.409480Z",
     "start_time": "2024-11-01T21:15:19.405005Z"
    }
   },
   "source": [
    "# GRADED CLASS: EarlyStoppingCallback\n",
    "\n",
    "### START CODE HERE ###\n",
    "\n",
    "# Remember to inherit from the correct class\n",
    "class EarlyStoppingCallback(tfk.callbacks.Callback):\n",
    "\n",
    "    # Define the correct function signature for on_epoch_end method\n",
    "    def on_epoch_end(self, epoch, logs=None):\n",
    "        # Check if the accuracy is greater or equal to 0.98\n",
    "        if logs['accuracy'] >= 0.98:\n",
    "            # Stop training once the above condition is met\n",
    "            self.model.stop_training = True\n",
    "\n",
    "            print(\"\\nReached 98% accuracy so cancelling training!\")\n",
    "\n",
    "            ### END CODE HERE ###"
   ],
   "outputs": [],
   "execution_count": 21
  },
  {
   "cell_type": "markdown",
   "metadata": {},
   "source": [
    "## Exercise 3: train_mnist\n",
    "\n",
    "Now that you have defined your callback it is time to complete the `train_mnist` function below. This function will receive the training data (features and targets encoded as numpy arrays) and should use it to train the model you defined earlier. It should also return the training history of the model. This object is returned when using the `fit` method of a `tf.keras.Model` as explained in the [docs](https://www.tensorflow.org/api_docs/python/tf/keras/Model#fit).\n",
    "\n",
    "**You must set your model to train for 10 epochs and the callback should fire before the 10th epoch for you to pass this part of the assignment**"
   ]
  },
  {
   "cell_type": "code",
   "metadata": {
    "deletable": false,
    "id": "rEHcB3kqyHZ6",
    "tags": [
     "graded"
    ],
    "ExecuteTime": {
     "end_time": "2024-11-01T21:15:26.969896Z",
     "start_time": "2024-11-01T21:15:26.963680Z"
    }
   },
   "source": [
    "# GRADED FUNCTION: train_mnist\n",
    "\n",
    "def train_mnist(training_images, training_labels):\n",
    "    \"\"\"Trains a classifier of handwritten digits.\n",
    "\n",
    "    Args:\n",
    "        training_images (numpy.ndarray): The images of handwritten digits\n",
    "        training_labels (numpy.ndarray): The labels of each image\n",
    "\n",
    "    Returns:\n",
    "        tf.keras.callbacks.History : The training history.\n",
    "    \"\"\"\n",
    "\n",
    "    ### START CODE HERE ###\n",
    "\n",
    "    # Create a compiled (but untrained) version of the model\n",
    "    # Hint: Remember you already coded a function that does this!\n",
    "    model = create_and_compile_model()\n",
    "\n",
    "    # Fit the model for 10 epochs adding the callbacks and save the training history\n",
    "    history = model.fit(training_images, training_labels, epochs=10, callbacks=[EarlyStoppingCallback()])\n",
    "\n",
    "    ### END CODE HERE ###\n",
    "\n",
    "    return history"
   ],
   "outputs": [],
   "execution_count": 22
  },
  {
   "cell_type": "markdown",
   "metadata": {},
   "source": [
    "Now train the model and get the training history by calling the `train_mnist` function, passing in the appropiate parameters:"
   ]
  },
  {
   "cell_type": "code",
   "metadata": {
    "deletable": false,
    "editable": false,
    "id": "sFgpwbGly4u4",
    "tags": [
     "graded"
    ],
    "ExecuteTime": {
     "end_time": "2024-11-01T21:15:43.025173Z",
     "start_time": "2024-11-01T21:15:29.868925Z"
    }
   },
   "source": [
    "training_history = train_mnist(training_images, training_labels)"
   ],
   "outputs": [
    {
     "name": "stdout",
     "output_type": "stream",
     "text": [
      "Epoch 1/10\n",
      "\u001B[1m1875/1875\u001B[0m \u001B[32m━━━━━━━━━━━━━━━━━━━━\u001B[0m\u001B[37m\u001B[0m \u001B[1m5s\u001B[0m 2ms/step - accuracy: 0.8988 - loss: 0.3465\n",
      "Epoch 2/10\n",
      "\u001B[1m1875/1875\u001B[0m \u001B[32m━━━━━━━━━━━━━━━━━━━━\u001B[0m\u001B[37m\u001B[0m \u001B[1m4s\u001B[0m 2ms/step - accuracy: 0.9739 - loss: 0.0842\n",
      "Epoch 3/10\n",
      "\u001B[1m1862/1875\u001B[0m \u001B[32m━━━━━━━━━━━━━━━━━━━\u001B[0m\u001B[37m━\u001B[0m \u001B[1m0s\u001B[0m 2ms/step - accuracy: 0.9839 - loss: 0.0501\n",
      "Reached 98% accuracy so cancelling training!\n",
      "\u001B[1m1875/1875\u001B[0m \u001B[32m━━━━━━━━━━━━━━━━━━━━\u001B[0m\u001B[37m\u001B[0m \u001B[1m4s\u001B[0m 2ms/step - accuracy: 0.9839 - loss: 0.0501\n"
     ]
    }
   ],
   "execution_count": 23
  },
  {
   "cell_type": "markdown",
   "metadata": {},
   "source": [
    "**Expected Output:**\n",
    "\n",
    "`Reached 98% accuracy so cancelling training!` printed out before reaching 10 epochs.\n"
   ]
  },
  {
   "cell_type": "markdown",
   "metadata": {},
   "source": [
    "## Need more help?\n",
    "\n",
    "Run the following cell to see an architecture that works well for the problem at hand:"
   ]
  },
  {
   "cell_type": "code",
   "metadata": {
    "deletable": false,
    "editable": false,
    "tags": [],
    "ExecuteTime": {
     "end_time": "2024-11-01T21:15:48.078286Z",
     "start_time": "2024-11-01T21:15:48.074071Z"
    }
   },
   "source": [
    "# WE STRONGLY RECOMMEND YOU TO TRY YOUR OWN ARCHITECTURES FIRST\n",
    "# AND ONLY RUN THIS CELL IF YOU WISH TO SEE AN ANSWER\n",
    "\n",
    "encoded_answer = \"CiAgIC0gQSB0Zi5rZXJhcy5JbnB1dCB3aXRoIHRoZSBzYW1lIHNoYXBlIGFzIHRoZSBpbWFnZXMKICAgLSBBIEZsYXR0ZW4gbGF5ZXIKICAgLSBBIERlbnNlIGxheWVyIHdpdGggNTEyIHVuaXRzIGFuZCBSZUxVIGFjdGl2YXRpb24gZnVuY3Rpb24KICAgLSBBIERlbnNlIGxheWVyIHdpdGggMTAgdW5pdHMgYW5kIHNvZnRtYXggYWN0aXZhdGlvbiBmdW5jdGlvbgo==\"\n",
    "encoded_answer = encoded_answer.encode('ascii')\n",
    "answer = base64.b64decode(encoded_answer)\n",
    "answer = answer.decode('ascii')\n",
    "\n",
    "print(answer)"
   ],
   "outputs": [
    {
     "name": "stdout",
     "output_type": "stream",
     "text": [
      "\n",
      "   - A tf.keras.Input with the same shape as the images\n",
      "   - A Flatten layer\n",
      "   - A Dense layer with 512 units and ReLU activation function\n",
      "   - A Dense layer with 10 units and softmax activation function\n",
      "\n"
     ]
    }
   ],
   "execution_count": 24
  },
  {
   "cell_type": "markdown",
   "metadata": {},
   "source": [
    "**Congratulations on finishing this week's assignment!**\n",
    "\n",
    "You have successfully implemented a callback that gives you more control over the training loop for your model. Nice job!\n",
    "\n",
    "**Keep it up!**"
   ]
  },
  {
   "metadata": {},
   "cell_type": "code",
   "outputs": [],
   "execution_count": null,
   "source": ""
  }
 ],
 "metadata": {
  "grader_version": "1",
  "kernelspec": {
   "display_name": "Python 3 (ipykernel)",
   "language": "python",
   "name": "python3"
  },
  "language_info": {
   "codemirror_mode": {
    "name": "ipython",
    "version": 3
   },
   "file_extension": ".py",
   "mimetype": "text/x-python",
   "name": "python",
   "nbconvert_exporter": "python",
   "pygments_lexer": "ipython3",
   "version": "3.11.6"
  }
 },
 "nbformat": 4,
 "nbformat_minor": 4
}
